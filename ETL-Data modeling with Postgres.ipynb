{
 "cells": [
  {
   "cell_type": "code",
   "execution_count": 1,
   "id": "4099f8c6",
   "metadata": {},
   "outputs": [],
   "source": [
    "import os,glob\n",
    "import numpy as np\n",
    "import pandas as pd\n",
    "import json\n",
    "import datetime,time"
   ]
  },
  {
   "cell_type": "markdown",
   "id": "ff42a43c",
   "metadata": {},
   "source": [
    "## Reading Data from json files"
   ]
  },
  {
   "cell_type": "code",
   "execution_count": 2,
   "id": "88fee871",
   "metadata": {
    "collapsed": true
   },
   "outputs": [
    {
     "name": "stdout",
     "output_type": "stream",
     "text": [
      "E:/Web/Dataset/Million_Song/log_data/2018/11\\2018-11-01-events.json\n",
      "E:/Web/Dataset/Million_Song/log_data/2018/11\\2018-11-02-events.json\n",
      "E:/Web/Dataset/Million_Song/log_data/2018/11\\2018-11-03-events.json\n",
      "E:/Web/Dataset/Million_Song/log_data/2018/11\\2018-11-04-events.json\n",
      "E:/Web/Dataset/Million_Song/log_data/2018/11\\2018-11-05-events.json\n",
      "E:/Web/Dataset/Million_Song/log_data/2018/11\\2018-11-06-events.json\n",
      "E:/Web/Dataset/Million_Song/log_data/2018/11\\2018-11-07-events.json\n",
      "E:/Web/Dataset/Million_Song/log_data/2018/11\\2018-11-08-events.json\n",
      "E:/Web/Dataset/Million_Song/log_data/2018/11\\2018-11-09-events.json\n",
      "E:/Web/Dataset/Million_Song/log_data/2018/11\\2018-11-10-events.json\n",
      "E:/Web/Dataset/Million_Song/log_data/2018/11\\2018-11-11-events.json\n",
      "E:/Web/Dataset/Million_Song/log_data/2018/11\\2018-11-12-events.json\n",
      "E:/Web/Dataset/Million_Song/log_data/2018/11\\2018-11-13-events.json\n",
      "E:/Web/Dataset/Million_Song/log_data/2018/11\\2018-11-14-events.json\n",
      "E:/Web/Dataset/Million_Song/log_data/2018/11\\2018-11-15-events.json\n",
      "E:/Web/Dataset/Million_Song/log_data/2018/11\\2018-11-16-events.json\n",
      "E:/Web/Dataset/Million_Song/log_data/2018/11\\2018-11-17-events.json\n",
      "E:/Web/Dataset/Million_Song/log_data/2018/11\\2018-11-18-events.json\n",
      "E:/Web/Dataset/Million_Song/log_data/2018/11\\2018-11-19-events.json\n",
      "E:/Web/Dataset/Million_Song/log_data/2018/11\\2018-11-20-events.json\n",
      "E:/Web/Dataset/Million_Song/log_data/2018/11\\2018-11-21-events.json\n",
      "E:/Web/Dataset/Million_Song/log_data/2018/11\\2018-11-22-events.json\n",
      "E:/Web/Dataset/Million_Song/log_data/2018/11\\2018-11-23-events.json\n",
      "E:/Web/Dataset/Million_Song/log_data/2018/11\\2018-11-24-events.json\n",
      "E:/Web/Dataset/Million_Song/log_data/2018/11\\2018-11-25-events.json\n",
      "E:/Web/Dataset/Million_Song/log_data/2018/11\\2018-11-26-events.json\n",
      "E:/Web/Dataset/Million_Song/log_data/2018/11\\2018-11-27-events.json\n",
      "E:/Web/Dataset/Million_Song/log_data/2018/11\\2018-11-28-events.json\n",
      "E:/Web/Dataset/Million_Song/log_data/2018/11\\2018-11-29-events.json\n",
      "E:/Web/Dataset/Million_Song/log_data/2018/11\\2018-11-30-events.json\n"
     ]
    }
   ],
   "source": [
    "data_path = 'E:/Web/Dataset/Million_Song/log_data/2018/11/*'\n",
    "\n",
    "log_dataset = pd.DataFrame()\n",
    "for file in glob.glob(data_path):\n",
    "    print(file)\n",
    "    data_file = pd.read_json(file,lines=True)\n",
    "    log_dataset = pd.concat([log_dataset,data_file])"
   ]
  },
  {
   "cell_type": "code",
   "execution_count": 3,
   "id": "a161f100",
   "metadata": {
    "collapsed": true
   },
   "outputs": [
    {
     "data": {
      "text/html": [
       "<div>\n",
       "<style scoped>\n",
       "    .dataframe tbody tr th:only-of-type {\n",
       "        vertical-align: middle;\n",
       "    }\n",
       "\n",
       "    .dataframe tbody tr th {\n",
       "        vertical-align: top;\n",
       "    }\n",
       "\n",
       "    .dataframe thead th {\n",
       "        text-align: right;\n",
       "    }\n",
       "</style>\n",
       "<table border=\"1\" class=\"dataframe\">\n",
       "  <thead>\n",
       "    <tr style=\"text-align: right;\">\n",
       "      <th></th>\n",
       "      <th>artist</th>\n",
       "      <th>auth</th>\n",
       "      <th>firstName</th>\n",
       "      <th>gender</th>\n",
       "      <th>itemInSession</th>\n",
       "      <th>lastName</th>\n",
       "      <th>length</th>\n",
       "      <th>level</th>\n",
       "      <th>location</th>\n",
       "      <th>method</th>\n",
       "      <th>page</th>\n",
       "      <th>registration</th>\n",
       "      <th>sessionId</th>\n",
       "      <th>song</th>\n",
       "      <th>status</th>\n",
       "      <th>ts</th>\n",
       "      <th>userAgent</th>\n",
       "      <th>userId</th>\n",
       "    </tr>\n",
       "  </thead>\n",
       "  <tbody>\n",
       "    <tr>\n",
       "      <th>33</th>\n",
       "      <td>Alliance Ethnik</td>\n",
       "      <td>Logged In</td>\n",
       "      <td>Lily</td>\n",
       "      <td>F</td>\n",
       "      <td>68</td>\n",
       "      <td>Koch</td>\n",
       "      <td>195.94404</td>\n",
       "      <td>paid</td>\n",
       "      <td>Chicago-Naperville-Elgin, IL-IN-WI</td>\n",
       "      <td>PUT</td>\n",
       "      <td>NextSong</td>\n",
       "      <td>1.541048e+12</td>\n",
       "      <td>818</td>\n",
       "      <td>SinceritÃÂ© Et Jalousie</td>\n",
       "      <td>200</td>\n",
       "      <td>1542852842796</td>\n",
       "      <td>\"Mozilla/5.0 (X11; Linux x86_64) AppleWebKit/5...</td>\n",
       "      <td>15</td>\n",
       "    </tr>\n",
       "    <tr>\n",
       "      <th>114</th>\n",
       "      <td>None</td>\n",
       "      <td>Logged In</td>\n",
       "      <td>Kinsley</td>\n",
       "      <td>F</td>\n",
       "      <td>0</td>\n",
       "      <td>Young</td>\n",
       "      <td>NaN</td>\n",
       "      <td>paid</td>\n",
       "      <td>Red Bluff, CA</td>\n",
       "      <td>GET</td>\n",
       "      <td>Home</td>\n",
       "      <td>1.540465e+12</td>\n",
       "      <td>436</td>\n",
       "      <td>None</td>\n",
       "      <td>200</td>\n",
       "      <td>1542373125796</td>\n",
       "      <td>\"Mozilla/5.0 (Macintosh; Intel Mac OS X 10_10_...</td>\n",
       "      <td>85</td>\n",
       "    </tr>\n",
       "  </tbody>\n",
       "</table>\n",
       "</div>"
      ],
      "text/plain": [
       "              artist       auth firstName gender  itemInSession lastName  \\\n",
       "33   Alliance Ethnik  Logged In      Lily      F             68     Koch   \n",
       "114             None  Logged In   Kinsley      F              0    Young   \n",
       "\n",
       "        length level                            location method      page  \\\n",
       "33   195.94404  paid  Chicago-Naperville-Elgin, IL-IN-WI    PUT  NextSong   \n",
       "114        NaN  paid                       Red Bluff, CA    GET      Home   \n",
       "\n",
       "     registration  sessionId                      song  status             ts  \\\n",
       "33   1.541048e+12        818  SinceritÃÂ© Et Jalousie     200  1542852842796   \n",
       "114  1.540465e+12        436                      None     200  1542373125796   \n",
       "\n",
       "                                             userAgent userId  \n",
       "33   \"Mozilla/5.0 (X11; Linux x86_64) AppleWebKit/5...     15  \n",
       "114  \"Mozilla/5.0 (Macintosh; Intel Mac OS X 10_10_...     85  "
      ]
     },
     "execution_count": 3,
     "metadata": {},
     "output_type": "execute_result"
    }
   ],
   "source": [
    "log_dataset.sample(2)"
   ]
  },
  {
   "cell_type": "code",
   "execution_count": 4,
   "id": "9e5dda32",
   "metadata": {
    "collapsed": true
   },
   "outputs": [
    {
     "name": "stdout",
     "output_type": "stream",
     "text": [
      "E:/Web/Dataset/Million_Song/song_data/A\\A\\A\n",
      "E:/Web/Dataset/Million_Song/song_data/A\\A\\B\n",
      "E:/Web/Dataset/Million_Song/song_data/A\\A\\C\n",
      "E:/Web/Dataset/Million_Song/song_data/A\\B\\A\n",
      "E:/Web/Dataset/Million_Song/song_data/A\\B\\B\n",
      "E:/Web/Dataset/Million_Song/song_data/A\\B\\C\n"
     ]
    }
   ],
   "source": [
    "data_path = 'E:/Web/Dataset/Million_Song/song_data/A/*'\n",
    "song_dataset = pd.DataFrame()\n",
    "for folder in glob.glob(data_path):\n",
    "    if os.path.isdir(folder):\n",
    "        for sub_folder in glob.glob(folder+'/*'):\n",
    "            print(sub_folder)\n",
    "            for dir in glob.glob(sub_folder+'/*'):\n",
    "                song_file = pd.read_json(dir,lines=True)\n",
    "                song_dataset = pd.concat([song_dataset,song_file])"
   ]
  },
  {
   "cell_type": "code",
   "execution_count": 5,
   "id": "ddb1fbf6",
   "metadata": {
    "collapsed": true
   },
   "outputs": [
    {
     "data": {
      "text/html": [
       "<div>\n",
       "<style scoped>\n",
       "    .dataframe tbody tr th:only-of-type {\n",
       "        vertical-align: middle;\n",
       "    }\n",
       "\n",
       "    .dataframe tbody tr th {\n",
       "        vertical-align: top;\n",
       "    }\n",
       "\n",
       "    .dataframe thead th {\n",
       "        text-align: right;\n",
       "    }\n",
       "</style>\n",
       "<table border=\"1\" class=\"dataframe\">\n",
       "  <thead>\n",
       "    <tr style=\"text-align: right;\">\n",
       "      <th></th>\n",
       "      <th>num_songs</th>\n",
       "      <th>artist_id</th>\n",
       "      <th>artist_latitude</th>\n",
       "      <th>artist_longitude</th>\n",
       "      <th>artist_location</th>\n",
       "      <th>artist_name</th>\n",
       "      <th>song_id</th>\n",
       "      <th>title</th>\n",
       "      <th>duration</th>\n",
       "      <th>year</th>\n",
       "    </tr>\n",
       "  </thead>\n",
       "  <tbody>\n",
       "    <tr>\n",
       "      <th>0</th>\n",
       "      <td>1</td>\n",
       "      <td>ARGCY1Y1187B9A4FA5</td>\n",
       "      <td>36.16778</td>\n",
       "      <td>-86.77836</td>\n",
       "      <td>Nashville, TN.</td>\n",
       "      <td>Gloriana</td>\n",
       "      <td>SOQOTLQ12AB01868D0</td>\n",
       "      <td>Clementina Santafè</td>\n",
       "      <td>153.33832</td>\n",
       "      <td>0</td>\n",
       "    </tr>\n",
       "    <tr>\n",
       "      <th>0</th>\n",
       "      <td>1</td>\n",
       "      <td>ARMBR4Y1187B9990EB</td>\n",
       "      <td>37.77916</td>\n",
       "      <td>-122.42005</td>\n",
       "      <td>California - SF</td>\n",
       "      <td>David Martin</td>\n",
       "      <td>SOTTDKS12AB018D69B</td>\n",
       "      <td>It Wont Be Christmas</td>\n",
       "      <td>241.47546</td>\n",
       "      <td>0</td>\n",
       "    </tr>\n",
       "  </tbody>\n",
       "</table>\n",
       "</div>"
      ],
      "text/plain": [
       "   num_songs           artist_id  artist_latitude  artist_longitude  \\\n",
       "0          1  ARGCY1Y1187B9A4FA5         36.16778         -86.77836   \n",
       "0          1  ARMBR4Y1187B9990EB         37.77916        -122.42005   \n",
       "\n",
       "   artist_location   artist_name             song_id                 title  \\\n",
       "0   Nashville, TN.      Gloriana  SOQOTLQ12AB01868D0    Clementina Santafè   \n",
       "0  California - SF  David Martin  SOTTDKS12AB018D69B  It Wont Be Christmas   \n",
       "\n",
       "    duration  year  \n",
       "0  153.33832     0  \n",
       "0  241.47546     0  "
      ]
     },
     "execution_count": 5,
     "metadata": {},
     "output_type": "execute_result"
    }
   ],
   "source": [
    "song_dataset.sample(2)"
   ]
  },
  {
   "cell_type": "markdown",
   "id": "1ada05d0",
   "metadata": {},
   "source": [
    "## Database --PostgreSQL"
   ]
  },
  {
   "cell_type": "code",
   "execution_count": 9,
   "id": "5b5391de",
   "metadata": {},
   "outputs": [],
   "source": [
    "import psycopg2"
   ]
  },
  {
   "cell_type": "code",
   "execution_count": 10,
   "id": "4a9ce0aa",
   "metadata": {},
   "outputs": [],
   "source": [
    "conn = psycopg2.connect(\"dbname=excalibur user=postgres password=123\")\n",
    "cur = conn.cursor()\n",
    "conn.set_session(autocommit=True)"
   ]
  },
  {
   "cell_type": "markdown",
   "id": "26cae9ba",
   "metadata": {},
   "source": [
    "### Creating fact and dim table\n",
    "\n",
    " * fact table \"songplays\" - records in log data associated with song plays i.e. records with page NextSong\n",
    " \n",
    "       songplay_id, start_time, user_id, level, song_id, artist_id, session_id, location, user_agent\n",
    " * dim tables :\n",
    "         * users - users in the app\n",
    "              user_id, first_name, last_name, gender, level\n",
    "        * songs - songs in music database\n",
    "              song_id, title, artist_id, year, duration\n",
    "        * artists - artists in music database\n",
    "              artist_id, name, location, latitude, longitude\n",
    "        * time - timestamps of records in songplays broken down into specific units\n",
    "              start_time, hour, day, week, month, year, weekday"
   ]
  },
  {
   "cell_type": "markdown",
   "id": "697c26ce",
   "metadata": {},
   "source": [
    "### Create tables"
   ]
  },
  {
   "cell_type": "code",
   "execution_count": 294,
   "id": "caa2784f",
   "metadata": {},
   "outputs": [],
   "source": [
    "query_create_songplay = \"\"\"     create table if not exists songplays (\n",
    "                                songplay_id serial primary key,\n",
    "                                start_time timestamp references time (start_time),\n",
    "                                user_id int references users (user_id),\n",
    "                                level varchar(10),\n",
    "                                song_id varchar references songs (song_id),\n",
    "                                artist_id varchar references artists (artist_id),\n",
    "                                session_id int,\n",
    "                                location text,\n",
    "                                user_agent text\n",
    "                            ); \n",
    "                        \"\"\"\n",
    "query_create_users = \"\"\"\n",
    "                        create table if not exists users(\n",
    "                            user_id int primary key,\n",
    "                            first_name varchar(15),\n",
    "                            last_name varchar(15),\n",
    "                            gender char(1),\n",
    "                            level varchar(10)\n",
    "                        );\n",
    "                    \"\"\"\n",
    "\n",
    "query_create_songs = \"\"\"\n",
    "                        create table if not exists songs(\n",
    "                            song_id varchar primary key,\n",
    "                            title varchar,\n",
    "                            artist_id varchar references artists (artist_id),\n",
    "                            year int,\n",
    "                            duration float\n",
    "                        );\n",
    "                    \"\"\"\n",
    "query_create_artists = \"\"\"\n",
    "                            create table if not exists artists(\n",
    "                                artist_id varchar primary key,\n",
    "                                name varchar,\n",
    "                                location text,\n",
    "                                latitude float,\n",
    "                                longitude float\n",
    "                            );\n",
    "                        \"\"\"\n",
    "\n",
    "query_create_time = \"\"\"\n",
    "                        create table if not exists time(\n",
    "                        start_time timestamp primary key,\n",
    "                        hour int,\n",
    "                        day int,\n",
    "                        week int,\n",
    "                        month int,\n",
    "                        year int,\n",
    "                        weekday varchar\n",
    "                        \n",
    "                        );\n",
    "                    \"\"\"\n",
    "\n",
    "\n",
    "\n",
    "create_table_queries = [query_create_artists,query_create_songs,query_create_users,query_create_time,query_create_songplay]"
   ]
  },
  {
   "cell_type": "code",
   "execution_count": 295,
   "id": "41b0e0c4",
   "metadata": {},
   "outputs": [],
   "source": [
    "for query in create_table_queries:\n",
    "    cur.execute(query)"
   ]
  },
  {
   "cell_type": "code",
   "execution_count": 296,
   "id": "ecd9de4b",
   "metadata": {},
   "outputs": [
    {
     "name": "stdout",
     "output_type": "stream",
     "text": [
      "('artists',)\n",
      "('songs',)\n",
      "('time',)\n",
      "('songplays',)\n",
      "('users',)\n"
     ]
    }
   ],
   "source": [
    "cur.execute(\"select table_name from information_schema.tables where table_schema='public'\")\n",
    "rows = cur.fetchall()\n",
    "for row in rows:\n",
    "    print(row)"
   ]
  },
  {
   "cell_type": "markdown",
   "id": "ff5ea7a6",
   "metadata": {},
   "source": [
    "## insert into tables"
   ]
  },
  {
   "cell_type": "markdown",
   "id": "5c7d2013",
   "metadata": {},
   "source": [
    "#### insert into artists table"
   ]
  },
  {
   "cell_type": "code",
   "execution_count": 297,
   "id": "0fb7b9a7",
   "metadata": {},
   "outputs": [],
   "source": [
    "artist_rows = song_dataset[['artist_id','artist_name','artist_location','artist_latitude','artist_longitude']].values.tolist()\n",
    "\n",
    "query = \"insert into artists values (%s,%s,%s,%s,%s) on conflict (artist_id) do nothing\"\n",
    "for row in artist_rows:\n",
    "    cur.execute(query,row)"
   ]
  },
  {
   "cell_type": "markdown",
   "id": "de94049c",
   "metadata": {},
   "source": [
    "#### insert into songs table"
   ]
  },
  {
   "cell_type": "code",
   "execution_count": 298,
   "id": "854d2158",
   "metadata": {},
   "outputs": [],
   "source": [
    "song_rows = song_dataset[['song_id','title','artist_id','year','duration']].values.tolist()\n",
    "\n",
    "query = \"insert into songs values (%s,%s,%s,%s,%s) on conflict(song_id) do nothing\"\n",
    "\n",
    "for row in song_rows:\n",
    "    cur.execute(query,row)"
   ]
  },
  {
   "cell_type": "markdown",
   "id": "cfc9a493",
   "metadata": {},
   "source": [
    "#### insert into users table"
   ]
  },
  {
   "cell_type": "code",
   "execution_count": 299,
   "id": "551d50d6",
   "metadata": {},
   "outputs": [],
   "source": [
    "user_rows = log_dataset.loc[log_dataset.userId!='',['userId','firstName','lastName','gender','level']].values.tolist()\n",
    "\n",
    "query = \"insert into users values(%s,%s,%s,%s,%s) on conflict(user_id) do update set level=excluded.level\"\n",
    "\n",
    "for row in user_rows:\n",
    "    cur.execute(query,row)"
   ]
  },
  {
   "cell_type": "markdown",
   "id": "88b9060e",
   "metadata": {},
   "source": [
    "#### insert into time table"
   ]
  },
  {
   "cell_type": "code",
   "execution_count": 300,
   "id": "de77dbcc",
   "metadata": {
    "collapsed": true
   },
   "outputs": [
    {
     "name": "stderr",
     "output_type": "stream",
     "text": [
      "c:\\users\\studa\\appdata\\local\\programs\\python\\python37\\lib\\site-packages\\pandas\\core\\indexing.py:723: SettingWithCopyWarning: \n",
      "A value is trying to be set on a copy of a slice from a DataFrame\n",
      "\n",
      "See the caveats in the documentation: https://pandas.pydata.org/pandas-docs/stable/user_guide/indexing.html#returning-a-view-versus-a-copy\n",
      "  iloc._setitem_with_indexer(indexer, value, self.name)\n",
      "c:\\users\\studa\\appdata\\local\\programs\\python\\python37\\lib\\site-packages\\pandas\\util\\_decorators.py:311: SettingWithCopyWarning: \n",
      "A value is trying to be set on a copy of a slice from a DataFrame\n",
      "\n",
      "See the caveats in the documentation: https://pandas.pydata.org/pandas-docs/stable/user_guide/indexing.html#returning-a-view-versus-a-copy\n",
      "  return func(*args, **kwargs)\n",
      "c:\\users\\studa\\appdata\\local\\programs\\python\\python37\\lib\\site-packages\\ipykernel_launcher.py:8: FutureWarning: Series.dt.weekofyear and Series.dt.week have been deprecated.  Please use Series.dt.isocalendar().week instead.\n",
      "  \n"
     ]
    }
   ],
   "source": [
    "time_rows = log_dataset.loc[log_dataset.page == 'NextSong']\n",
    "time_rows.index = np.arange(1,len(time_rows)+1)\n",
    "t = pd.to_datetime(time_rows.ts,unit='ms')\n",
    "time_rows.loc['ts'] = t\n",
    "\n",
    "time_rows.dropna(inplace=True)\n",
    "\n",
    "time_data = [t,t.dt.hour,t.dt.day,t.dt.week,t.dt.month,t.dt.year,t.dt.weekday]\n",
    "column_names = ('start_time','hour','day','week','month','year','weekday')\n",
    "\n",
    "time_df = pd.DataFrame.from_dict(dict(zip(column_names,time_data)))\n",
    "time_df = time_df.values.tolist()\n",
    "\n",
    "query = \"insert into time values(%s,%s,%s,%s,%s,%s,%s) on conflict(start_time) do nothing\"\n",
    "\n",
    "for row in time_df:\n",
    "    cur.execute(query,row)\n"
   ]
  },
  {
   "cell_type": "markdown",
   "id": "d45a63c0",
   "metadata": {},
   "source": [
    "#### insert into songplays table"
   ]
  },
  {
   "cell_type": "code",
   "execution_count": 301,
   "id": "25a07810",
   "metadata": {},
   "outputs": [],
   "source": [
    "select_query = \"\"\"\n",
    "            select s.song_id,a.artist_id\n",
    "            from songs s join artists a\n",
    "            on s.artist_id = a.artist_id\n",
    "            where s.title =%s and a.name=%s and s.duration=%s\n",
    "        \"\"\"\n",
    "\n",
    "songplay_table_insert = (\"\"\"\n",
    "    INSERT INTO songplays (start_time, user_id, level, song_id, artist_id, session_id, location, user_agent)\n",
    "    VALUES (%s, %s, %s, %s, %s, %s, %s, %s)\n",
    "\"\"\")"
   ]
  },
  {
   "cell_type": "code",
   "execution_count": 302,
   "id": "e3fda746",
   "metadata": {},
   "outputs": [],
   "source": [
    "for index,row in time_rows.iterrows():\n",
    "    cur.execute(select_query,(row.song,row.artist,row.length))\n",
    "    result = cur.fetchone()\n",
    "    if result:\n",
    "        song_id,artist_id = result\n",
    "    else:\n",
    "        song_id,artist_id = None,None\n",
    "    \n",
    "    \n",
    "    songplay_data = [t[index],row.userId,row.level,song_id,artist_id,row.sessionId,row.location,row.userAgent]\n",
    "    cur.execute(songplay_table_insert,songplay_data)"
   ]
  },
  {
   "cell_type": "markdown",
   "id": "5501be86",
   "metadata": {},
   "source": [
    "### --------------------------------------------"
   ]
  },
  {
   "cell_type": "code",
   "execution_count": 306,
   "id": "7faa67ec",
   "metadata": {},
   "outputs": [
    {
     "name": "stdout",
     "output_type": "stream",
     "text": [
      "(4627, datetime.datetime(2018, 11, 21, 21, 56, 47, 796000), 15, 'paid', 'SOZCTXZ12AB0182364', 'AR5KOSW1187FB35FF4', 818, 'Chicago-Naperville-Elgin, IL-IN-WI', '\"Mozilla/5.0 (X11; Linux x86_64) AppleWebKit/537.36 (KHTML, like Gecko) Ubuntu Chromium/36.0.1985.125 Chrome/36.0.1985.125 Safari/537.36\"')\n",
      "(2, datetime.datetime(2018, 11, 1, 21, 5, 52, 796000), 8, 'free', None, None, 139, 'Phoenix-Mesa-Scottsdale, AZ', '\"Mozilla/5.0 (Windows NT 6.1; WOW64) AppleWebKit/537.36 (KHTML, like Gecko) Chrome/35.0.1916.153 Safari/537.36\"')\n"
     ]
    }
   ],
   "source": [
    "query = \"select * from songplays order by song_id\"\n",
    "cur.execute(query)\n",
    "rows = cur.fetchmany(2)\n",
    "for row in rows:\n",
    "    print(row)\n"
   ]
  },
  {
   "cell_type": "markdown",
   "id": "27f38a0a",
   "metadata": {},
   "source": [
    "## Drop all tables"
   ]
  },
  {
   "cell_type": "code",
   "execution_count": 293,
   "id": "0f59be73",
   "metadata": {},
   "outputs": [],
   "source": [
    "cur.execute(\"drop table songplays\")\n",
    "cur.execute(\"drop table songs\")\n",
    "cur.execute(\"drop table users\")\n",
    "cur.execute(\"drop table artists\")\n",
    "cur.execute(\"drop table time\")"
   ]
  },
  {
   "cell_type": "code",
   "execution_count": null,
   "id": "7785be46",
   "metadata": {},
   "outputs": [],
   "source": []
  }
 ],
 "metadata": {
  "kernelspec": {
   "display_name": "Python 3",
   "language": "python",
   "name": "python3"
  },
  "language_info": {
   "codemirror_mode": {
    "name": "ipython",
    "version": 3
   },
   "file_extension": ".py",
   "mimetype": "text/x-python",
   "name": "python",
   "nbconvert_exporter": "python",
   "pygments_lexer": "ipython3",
   "version": "3.7.2"
  }
 },
 "nbformat": 4,
 "nbformat_minor": 5
}
